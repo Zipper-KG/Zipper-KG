{
 "cells": [
  {
   "cell_type": "code",
   "execution_count": 1,
   "metadata": {},
   "outputs": [],
   "source": [
    "from utils import load_model\n",
    "from data import build_corpus\n",
    "import time\n",
    "import re\n",
    "import numpy as np\n",
    "import drug_classifier as dc"
   ]
  },
  {
   "cell_type": "code",
   "execution_count": 2,
   "metadata": {},
   "outputs": [],
   "source": [
    "hmm_model = load_model(\"./ckpts/hmm.pkl\")"
   ]
  },
  {
   "cell_type": "code",
   "execution_count": 4,
   "metadata": {},
   "outputs": [],
   "source": [
    "train_word_lists, train_tag_lists, word2id, tag2id = \\\n",
    "        build_corpus(\"train\", data_dir=\"./Drug\")"
   ]
  },
  {
   "cell_type": "code",
   "execution_count": 7,
   "metadata": {},
   "outputs": [],
   "source": [
    "with open('corpus.txt', 'r', encoding='utf-8') as file:\n",
    "    corpus = file.read().splitlines()"
   ]
  },
  {
   "cell_type": "code",
   "execution_count": 8,
   "metadata": {},
   "outputs": [],
   "source": [
    "with open('vocabulary.txt', 'r', encoding='utf-8') as file:\n",
    "    keys = file.read().splitlines()\n",
    "med_re = '|'.join(keys)"
   ]
  },
  {
   "cell_type": "code",
   "execution_count": null,
   "metadata": {},
   "outputs": [],
   "source": [
    "oov=[]\n",
    "expected, actual = 0, 0\n",
    "for line in corpus: \n",
    "    txts = re.split('。|\\s+', line)\n",
    "    for t in txts:\n",
    "        expected += len(re.findall(med_re, t))\n",
    "        try:\n",
    "            entities = hmm_model.get_entities(t, word2id,tag2id,omask=0)\n",
    "        except:\n",
    "            print('Error:', t)\n",
    "            continue\n",
    "        actual += len(entities)\n",
    "        for e in entities:\n",
    "            if e[0] not in keys:\n",
    "                print('Found new:',e, 'from', t)\n",
    "                actual -= 1\n",
    "                oov.append(e[0])"
   ]
  },
  {
   "cell_type": "code",
   "execution_count": 60,
   "metadata": {},
   "outputs": [
    {
     "data": {
      "text/plain": [
       "788"
      ]
     },
     "execution_count": 60,
     "metadata": {},
     "output_type": "execute_result"
    }
   ],
   "source": [
    "oov = np.unique(oov)\n",
    "len(oov)"
   ]
  },
  {
   "cell_type": "code",
   "execution_count": 61,
   "metadata": {},
   "outputs": [],
   "source": [
    "oov2 = []\n",
    "for word in oov:\n",
    "    if re.search('^\\d', word):\n",
    "        word = re.sub('^\\d\\.?', '', word)\n",
    "    if re.search('、|，', word):\n",
    "        oov2 += re.split('、|，',word)\n",
    "    else:\n",
    "        oov2.append(word)"
   ]
  },
  {
   "cell_type": "code",
   "execution_count": 62,
   "metadata": {},
   "outputs": [],
   "source": [
    "oov2 = np.unique(oov2)"
   ]
  },
  {
   "cell_type": "code",
   "execution_count": 63,
   "metadata": {},
   "outputs": [
    {
     "data": {
      "text/plain": [
       "762"
      ]
     },
     "execution_count": 63,
     "metadata": {},
     "output_type": "execute_result"
    }
   ],
   "source": [
    "len(oov2)"
   ]
  },
  {
   "cell_type": "code",
   "execution_count": 53,
   "metadata": {},
   "outputs": [],
   "source": [
    "c = dc.load('trained_drug_classifier')"
   ]
  },
  {
   "cell_type": "code",
   "execution_count": 64,
   "metadata": {},
   "outputs": [],
   "source": [
    "filtered = []\n",
    "for word in oov2:\n",
    "    #print(word)\n",
    "    if c.is_drug(word):\n",
    "        filtered.append(word)"
   ]
  },
  {
   "cell_type": "code",
   "execution_count": 65,
   "metadata": {
    "scrolled": true
   },
   "outputs": [
    {
     "data": {
      "text/plain": [
       "647"
      ]
     },
     "execution_count": 65,
     "metadata": {},
     "output_type": "execute_result"
    }
   ],
   "source": [
    "len(filtered)"
   ]
  },
  {
   "cell_type": "code",
   "execution_count": 7,
   "metadata": {},
   "outputs": [
    {
     "name": "stdout",
     "output_type": "stream",
     "text": [
      "0.008941650390625\n",
      "卡 B-DRUG B-DRUG\n",
      "茚 I-DRUG I-DRUG\n",
      "西 I-DRUG I-DRUG\n",
      "林 I-DRUG I-DRUG\n",
      "（ O O\n",
      "C O O\n",
      "a O O\n",
      "r O O\n",
      "i O O\n",
      "n O O\n",
      "d O O\n",
      "a O O\n",
      "c O O\n",
      "i O O\n",
      "l O O\n",
      "l O O\n",
      "i O O\n",
      "n O O\n",
      "） O O\n",
      "， O O\n",
      "商 O O\n",
      "品 O O\n",
      "名 O O\n",
      "卡 O O\n",
      "丹 O O\n",
      "青 O O\n",
      "霉 O O\n",
      "素 O O\n",
      "、 O O\n",
      "茚 O O\n",
      "满 O O\n",
      "酯 O O\n",
      "羧 O O\n",
      "苄 O O\n",
      "青 O O\n",
      "霉 O O\n",
      "素 O O\n",
      "、 O O\n",
      "羧 O O\n",
      "苄 O O\n",
      "青 O O\n",
      "霉 O O\n",
      "素 O O\n",
      "茚 O O\n",
      "满 O O\n",
      "酯 O O\n",
      "、 O O\n",
      "羧 O O\n",
      "苄 O O\n",
      "青 O O\n",
      "霉 O O\n",
      "素 O O\n",
      "茚 O O\n",
      "满 O O\n",
      "酯 O O\n",
      "钠 O O\n",
      "、 O O\n",
      "羧 O O\n",
      "茚 O O\n",
      "青 B-DRUG B-DRUG\n",
      "霉 I-DRUG I-DRUG\n",
      "素 I-DRUG I-DRUG\n",
      "钠 I-DRUG I-DRUG\n",
      "、 O O\n",
      "羧 O O\n",
      "茚 O O\n",
      "苄 O O\n",
      "青 O O\n",
      "霉 O O\n",
      "素 O O\n",
      "、 O O\n",
      "羧 O O\n",
      "茚 O O\n",
      "苄 O O\n",
      "青 B-DRUG B-DRUG\n",
      "霉 I-DRUG I-DRUG\n",
      "素 I-DRUG I-DRUG\n",
      "钠 I-DRUG I-DRUG\n"
     ]
    }
   ],
   "source": [
    "loc = 7674\n",
    "sent = train_word_lists[loc]\n",
    "start = time.time()\n",
    "pred = hmm_model.test([sent])\n",
    "print(time.time()-start)\n",
    "for i in range(len(sent)):\n",
    "    print(sent[i], pred[0][i], train_tag_lists[loc][i])"
   ]
  },
  {
   "cell_type": "code",
   "execution_count": null,
   "metadata": {},
   "outputs": [],
   "source": []
  }
 ],
 "metadata": {
  "kernelspec": {
   "display_name": "Python 3",
   "language": "python",
   "name": "python3"
  },
  "language_info": {
   "codemirror_mode": {
    "name": "ipython",
    "version": 3
   },
   "file_extension": ".py",
   "mimetype": "text/x-python",
   "name": "python",
   "nbconvert_exporter": "python",
   "pygments_lexer": "ipython3",
   "version": "3.7.3"
  }
 },
 "nbformat": 4,
 "nbformat_minor": 2
}
